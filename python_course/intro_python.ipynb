{
 "cells": [
  {
   "cell_type": "markdown",
   "metadata": {},
   "source": [
    "# Introduction à Python\n",
    "Ceci est un jupyter-notebook, il permet de mélanger du code et du texte dans un même document. Le document est divisé en cellules qui peuvent être modifiées en les sélectionnant par un double clique ou avec **Entrée**. Elles peuvent ensuite être executées avec **Ctrl+Entrée**.\n",
    "\n",
    "Vous devrez compléter du code aux endroits indiqués. Le plus souvent un problème sera divisé en 3 cellules : une cellule d'énoncé (du texte), une cellule à remplir et une cellule de test. N'oubliez pas d'exécuter votre cellule à remplir même si elle ne fait rien en soi. Attention au cas où votre code est répartie sur plusieurs cellules, l'ordre dans lequelle vous les executez est important.\n",
    "\n",
    "Cette introduction est destinée à des personnes sachant déjà programmer dans un autre language et se concentre surtout sur les spécificités de Python. Vous devrez chercher par vous même la syntaxe de Python pour les éléments de programmations \"classiques\" qui ne sont pas détaillés dans ce _notebook_.\n",
    "\n",
    "Python se caractérise aussi par de nombreuses méthodes ajoutées de base aux différents objets du langage. Si vous cherchez à faire quelque chose de standard, ça a sûrement déjà été implémenté ! **Aidez-vous d'internet et des moteurs de recherche !**"
   ]
  },
  {
   "cell_type": "markdown",
   "metadata": {},
   "source": [
    "## 0. Le \"Zen de Python\"\n",
    "Le \"Zen de Python\" résume en 19 aphorismes la phylosophie de Python. Un _easter egg_ dans l'interpreteur de Python permet de l'afficher avec :\n",
    "```python\n",
    "import this\n",
    "```\n",
    "Exécuter la cellule suivante pour afficher le \"Zen de Python\"."
   ]
  },
  {
   "cell_type": "code",
   "execution_count": 1,
   "metadata": {},
   "outputs": [
    {
     "name": "stdout",
     "output_type": "stream",
     "text": [
      "The Zen of Python, by Tim Peters\n",
      "\n",
      "Beautiful is better than ugly.\n",
      "Explicit is better than implicit.\n",
      "Simple is better than complex.\n",
      "Complex is better than complicated.\n",
      "Flat is better than nested.\n",
      "Sparse is better than dense.\n",
      "Readability counts.\n",
      "Special cases aren't special enough to break the rules.\n",
      "Although practicality beats purity.\n",
      "Errors should never pass silently.\n",
      "Unless explicitly silenced.\n",
      "In the face of ambiguity, refuse the temptation to guess.\n",
      "There should be one-- and preferably only one --obvious way to do it.\n",
      "Although that way may not be obvious at first unless you're Dutch.\n",
      "Now is better than never.\n",
      "Although never is often better than *right* now.\n",
      "If the implementation is hard to explain, it's a bad idea.\n",
      "If the implementation is easy to explain, it may be a good idea.\n",
      "Namespaces are one honking great idea -- let's do more of those!\n"
     ]
    }
   ],
   "source": [
    "import this"
   ]
  },
  {
   "cell_type": "markdown",
   "metadata": {},
   "source": [
    "## 1. L'indentation en Python\n",
    "Le Python se démarque de la plupart des autres language par le fait que son code s'exécute en fonction de son indentation. Par exemple les codes : \n",
    "```python\n",
    "a = 0\n",
    "i = 0\n",
    "for i in range(10):\n",
    "    print(i)\n",
    "    a += i\n",
    "```\n",
    "et\n",
    "```python\n",
    "a = 0\n",
    "i = 0\n",
    "for i in range(10):\n",
    "    print(i)\n",
    "a += i\n",
    "```\n",
    "\n",
    "ne font pas la même chose ! En Python, les blocs de code n'ont pas de begin ou end explicites, le seul délimiteur est les deux points (\":\") et l'indentation du code lui-même."
   ]
  },
  {
   "cell_type": "markdown",
   "metadata": {},
   "source": [
    "## 2. Nombres entiers et flottants\n",
    "__int__ désigne un entier,\n",
    "__float__ désigne un nombre flottant. En python 3, \"/\" est l'opérateur de division, \"//\" est l'opérateur de division entière et \"%\" le modulo.\n",
    "\n",
    "Exercice : remplir le code pour faire une division euclidienne des nombres a et b en complétant la définition de la fonction. Noter qu'il est possible de renvoyer plusieurs valeurs après un __return__. "
   ]
  },
  {
   "cell_type": "code",
   "execution_count": null,
   "metadata": {
    "collapsed": true
   },
   "outputs": [],
   "source": [
    "def division_reelle(a, b):\n",
    "    quotient = ## À compléter.\n",
    "    reste = ## À compléter.\n",
    "    return ## À compléter."
   ]
  },
  {
   "cell_type": "code",
   "execution_count": null,
   "metadata": {
    "collapsed": true
   },
   "outputs": [],
   "source": [
    "## Cellule de test de votre code : à ne pas modifier.\n",
    "# Renvoie \"Bonne réponse\" ou \"Erreur\" si le code s'exécute mais que les résultats sont faux.\n",
    "\n",
    "# Affichage des résultats : \n",
    "print(division_reelle(5,5))\n",
    "print(division_reelle(5,2))\n",
    "print(division_reelle(1,5))    \n",
    "\n",
    "# Validation du code :\n",
    "try:\n",
    "    assert(division_reelle(5,5) == (1, 0))\n",
    "    assert(division_reelle(5,2) == (2, 1))\n",
    "    assert(division_reelle(1,5) == (0, 1))    \n",
    "    print('Bonne réponse !')\n",
    "\n",
    "except AssertionError: \n",
    "    print('Erreur !')"
   ]
  },
  {
   "cell_type": "markdown",
   "metadata": {},
   "source": [
    "## 3. Chaînes de caractères\n",
    "\n",
    "En Python, le type chaine de caractères se note par __str__. C'est une classe qui possède ses méthodes propres. __Référez-vous à la documentation.__\n",
    "\n",
    "Exercices: \n",
    "1. Compléter la fonction \"separe(a, b)\" qui sépare la chaine de caractères _a_ à chaque occurence de _b_.\n",
    "2. Compléter la fonction \"joindre(a, b)\" qui rejoint la liste de chaine de caractères _a_ avec la chaîne de caractères _b_."
   ]
  },
  {
   "cell_type": "code",
   "execution_count": null,
   "metadata": {
    "collapsed": true
   },
   "outputs": [],
   "source": [
    "def separe(a, b):\n",
    "    chaine_separee = ## À compléter.\n",
    "    return chaine_separee\n",
    "\n",
    "def joindre(a, b):\n",
    "    chaine_jointe = ## À compléter.\n",
    "    return chaine_jointe"
   ]
  },
  {
   "cell_type": "code",
   "execution_count": null,
   "metadata": {
    "collapsed": true
   },
   "outputs": [],
   "source": [
    "## Cellule de test de votre code : à ne pas modifier.\n",
    "# Renvoie \"Bonne réponse\" ou \"Erreur\" si le code s'exécute mais que les résultats sont faux.\n",
    "\n",
    "# Affichage des résultats : \n",
    "print(separe('awsdww2e2dsd','2'))\n",
    "print(separe('un deux trois',' '))\n",
    "print(joindre(['un', 'deux', 'trois'],'-'))\n",
    "print(joindre(['j\\'aime', 'les', 'sandwichs'],' '))\n",
    "      \n",
    "# Validation du code :\n",
    "try:\n",
    "    assert(separe('awsdww2e2dsd','2')==['awsdww','e','dsd'])\n",
    "    assert(separe('un deux trois',' ')==['un', 'deux', 'trois'])\n",
    "    assert(joindre(['un', 'deux', 'trois'],'-')== 'un-deux-trois')\n",
    "    assert(joindre(['j\\'aime', 'les', 'sandwichs'],' ')=='j\\'aime les sandwichs')\n",
    "    print('Bonne réponse !')\n",
    "\n",
    "except AssertionError: \n",
    "    print('Erreur !')"
   ]
  },
  {
   "cell_type": "markdown",
   "metadata": {},
   "source": [
    "## 4. Listes\n",
    "\n",
    "La liste est l'un des éléments centraux de la programmation en Python. Elle peut contenir des objets de n'importe quelle classe. On peut aussi regrouper dans une même liste des objets de classes différentes. Elle est définie par des crochets \"[ ]\".\n",
    "\n",
    "Les fonctions __append__ et __remove__ permettent respectivement d'ajouter et de retirer des éléments à une liste. \n",
    "On peut parcourir les élements d'une liste avec une boucle __for__:\n",
    "\n",
    "```python\n",
    "ma_liste = [1, 2, 3, 45]\n",
    "for i in ma_liste:\n",
    "    print(i)\n",
    "    \n",
    "# Résultat\n",
    ">>> 1\n",
    "    2\n",
    "    3\n",
    "    45\n",
    "```\n",
    "\n",
    "Exercices: \n",
    "1. Compléter la fonction separe_type(a), qui renvoie deux listes en séparant les élements de _a_. \n",
    "    Dans la première liste on regroupe les nombres de _a_, dans la deuxième liste on regroupe les chaînes de charactères de _a_. Si un élément n'est ni un nombre ni une chaine de charactères, il est ignoré.\n",
    "2. Renvoyer la liste de nombres triée."
   ]
  },
  {
   "cell_type": "code",
   "execution_count": null,
   "metadata": {
    "collapsed": true
   },
   "outputs": [],
   "source": [
    "def separe_type(a):\n",
    "    nombres = []\n",
    "    chaines_de_caracteres = []\n",
    "    ## À compléter.\n",
    "    return nombres, chaines_de_caracteres\n",
    "    "
   ]
  },
  {
   "cell_type": "code",
   "execution_count": null,
   "metadata": {
    "collapsed": true
   },
   "outputs": [],
   "source": [
    "## Cellule de test de votre code : à ne pas modifier.\n",
    "# Renvoie \"Bonne réponse\" ou \"Erreur\" si le code s'exécute mais que les résultats sont faux.\n",
    "\n",
    "# Affichage des résultats : \n",
    "print(separe_type([1, 2, 3, '2', 'sdasd', 'ws']))\n",
    "print(separe_type(['un deux trois', ' ', 2]))\n",
    "print(separe_type(['un', 'deux', 'trois']))\n",
    "print(separe_type([2, 3, 41, 2]))\n",
    "      \n",
    "# Validation du code :\n",
    "try:\n",
    "    assert(separe_type([1, 2, 3, '2', 'sdasd', 'ws']) == ([1, 2, 3],['2', 'sdasd', 'ws']))\n",
    "    assert(separe_type(['un deux trois', ' ', 2]) == ([2],['un deux trois', ' ']))\n",
    "    assert(separe_type(['un', 'deux', 'trois'])==([],['un', 'deux', 'trois']))\n",
    "    assert(separe_type([2, 3, 41, 2]) == ([2, 2, 3, 41], []))\n",
    "    print('Bonne réponse !')\n",
    "\n",
    "except AssertionError: \n",
    "    print('Erreur !')"
   ]
  },
  {
   "cell_type": "markdown",
   "metadata": {},
   "source": [
    "La sélection des éléments d'une liste peut se faire avec un simple indice (exemple : ```liste[a]``` ), avec deux indices pour indiquer un interval (exemple : ```liste[a:b]```) ou avec trois indices pour indiquer un pas (exemple : ```liste[a:b:c]```). Un indice négatif permet de sélectionner des éléments en partant de la fin de la liste.\n",
    "\n",
    "Exercices :\n",
    "1. Créer une fonction ```select1``` qui retourne une nouvelle liste avec un élement sur trois sans les 5 premiers.\n",
    "2. Créer une fonction ```select2``` qui retourne une nouvelle liste à l'envers et sans les trois derniers éléments de la liste original."
   ]
  },
  {
   "cell_type": "code",
   "execution_count": null,
   "metadata": {
    "collapsed": true
   },
   "outputs": [],
   "source": [
    "def select1(l):\n",
    "    return l[] # À compléter en une ligne\n",
    "\n",
    "def select2(l):\n",
    "    return l[] # À compléter en une ligne"
   ]
  },
  {
   "cell_type": "code",
   "execution_count": null,
   "metadata": {
    "collapsed": true
   },
   "outputs": [],
   "source": [
    "## Cellule de test de votre code : à ne pas modifier.\n",
    "# Renvoie \"Bonne réponse\" ou \"Erreur\" si le code s'exécute mais que les résultats sont faux.\n",
    "\n",
    "# Affichage des résultats : \n",
    "print(select1(list(range(20))))\n",
    "print(select2(list(range(20))))\n",
    "\n",
    "# Validation du code :\n",
    "try:\n",
    "    assert(select1(list(range(20)))==[5, 8, 11, 14, 17])\n",
    "    assert(select2(list(range(20)))==[16, 15, 14, 13, 12, 11, 10, 9, 8, 7, 6, 5, 4, 3, 2, 1, 0])\n",
    "    \n",
    "    print('Bonne réponse !')\n",
    "\n",
    "except AssertionError: \n",
    "    print('Erreur !')"
   ]
  },
  {
   "cell_type": "markdown",
   "metadata": {},
   "source": [
    "## 5. Dictionnaires\n",
    "\n",
    "Les dictionnaires sont très pratiques et peuvent être considérés comme des listes avec des noms aux éléments. En revanche ils ne sont pas ordonnés contrairement aux listes.\n",
    "\n",
    "On utilise \"{a:b, c:d}\" pour les définir. Ici, a et c sont les clés du dictionnaire et b et d les valeurs associées à ces clés. \n",
    "\n",
    "Exercice: \n",
    "    Définisser une fonction \"dictionnaire\" qui prend une liste de tuples de taille quelconque (ex: [(1,2), (3,5)]) et qui les met dans un dictionnaire avec le premier élément de chaque tuple comme clé et le deuxième élément comme valeur."
   ]
  },
  {
   "cell_type": "code",
   "execution_count": null,
   "metadata": {
    "collapsed": true
   },
   "outputs": [],
   "source": [
    "def dictionnaire(l_tuple):\n",
    "    ## À compléter\n",
    "    return resultat"
   ]
  },
  {
   "cell_type": "code",
   "execution_count": null,
   "metadata": {
    "collapsed": true
   },
   "outputs": [],
   "source": [
    "## Cellule de test de votre code : à ne pas modifier.\n",
    "# Renvoie 'Bonne réponse' ou 'Erreur' si le code s'exécute mais que les résultats sont faux.\n",
    "\n",
    "# Validation du code :\n",
    "try:\n",
    "    assert dictionnaire([(1,2), (3,5)]) == {1:2, 3:5}\n",
    "    print('Bonne réponse !')\n",
    "\n",
    "except AssertionError: \n",
    "    print('Erreur !')"
   ]
  },
  {
   "cell_type": "markdown",
   "metadata": {},
   "source": [
    "## 6. Fonctions\n",
    "Les fonctions en Python sont des outils assez versatiles : il n'y a pas besoin de préciser les types des entrées et des sorties !\n",
    "Une fonction se définit avec le mot clé **def**, et renvoie le résultat avec **return**.\n",
    "Le passage en argument d'objets de type complexes (différents de __int__ et __float__) s'effectue par référence. \n",
    "\n",
    "Exemple:\n",
    "```python\n",
    "element_complexe = [1]\n",
    "element_base = 1\n",
    "\n",
    "def incremente_base(i):\n",
    "    i+=1\n",
    "\n",
    "def incremente_liste(i):\n",
    "    i[0]+=1\n",
    "    \n",
    "incremente_base(element_base)\n",
    "print(element_base)\n",
    "# Résultat\n",
    ">>> 1\n",
    "    \n",
    "incremente_liste(element_complexe)\n",
    "print(element_complexe)\n",
    "# Résultat\n",
    ">>> [2] \n",
    "```\n",
    "\n",
    "Exercices : \n",
    "1. Définir une fonction **carre(n)** qui renvoie le carré d'un nombre en entrée\n",
    "2. Définir une fonction **puissance(n)** qui renvoie le premier argument à la puissance du deuxième. i.e : puissance(3,3)=27\n",
    "3. Définir une fonction **addition(l, n)** qui renvoie une nouvelle liste contenant tout les éléments de l plus un nombre n. Attention, l ne doit pas être modifiée."
   ]
  },
  {
   "cell_type": "code",
   "execution_count": null,
   "metadata": {
    "collapsed": true
   },
   "outputs": [],
   "source": [
    "# Compléter."
   ]
  },
  {
   "cell_type": "code",
   "execution_count": null,
   "metadata": {
    "collapsed": true
   },
   "outputs": [],
   "source": [
    "## Cellule de test de votre code : à ne pas modifier.\n",
    "# Renvoie 'Bonne réponse' ou 'Erreur' si le code s'exécute mais que les résultats sont faux.\n",
    "\n",
    "# Affichage des résultats : \n",
    "print(carre(2))\n",
    "print(carre(9))\n",
    "print(puissance(3,2))\n",
    "print(puissance(9,4))\n",
    "a = list(range(10))\n",
    "print('a', a)\n",
    "n = 1\n",
    "b = addition(a, n)\n",
    "print('b', b)\n",
    "print('a', a)\n",
    "# Validation du code :\n",
    "try:\n",
    "    assert(carre(2) == 4)\n",
    "    assert(carre(9) == 81)\n",
    "    assert(puissance(3,2)== 9)\n",
    "    assert(puissance(9,4) == 6561.0)\n",
    "    a = list(range(10))\n",
    "    n = 1\n",
    "    assert(addition(a, n) == [1, 2, 3, 4, 5, 6, 7, 8, 9, 10])\n",
    "    assert(a == list(range(10)))\n",
    "    print('Bonne réponse !')\n",
    "\n",
    "except AssertionError: \n",
    "    print('Erreur !')"
   ]
  },
  {
   "cell_type": "markdown",
   "metadata": {},
   "source": [
    "## 7. Listes par compréhension\n",
    "\n",
    "Les listes par compréhension vous permettent de faire du code rapide et efficace : on peut intégrer directement des boucles __for__, __while__ ou même des conditions comme __if__ dans la définition de la liste. \n",
    "\n",
    "Exemple avec la liste des carrés :\n",
    "```python\n",
    "result = []\n",
    "for i in range(100):\n",
    "    result.append(i*i)\n",
    "```\n",
    "est équivalent à : \n",
    "```python\n",
    "result = [i*i for i in range(100)]\n",
    "```\n",
    "Les listes par compréhension permettent d'avoir un code plus compacte et plus rapide car elles évitent de copier inutilement les listes. \n",
    "\n",
    "Exercice : \n",
    "1. Définir d'abord une fonction premier(n) qui, avec des boucles __for__, renvoie la liste des nombres premiers jusqu'à n exclu puis refaite le même exercice avec une liste par compréhension. \n",
    "2. Créer la fonction `tri_indice(l)` qui renvoie la liste d'index d'élements triés, par exemple : `tri_indice([2,1,4,5])=[1,0,2,3]`."
   ]
  },
  {
   "cell_type": "code",
   "execution_count": null,
   "metadata": {
    "collapsed": true
   },
   "outputs": [],
   "source": [
    "def premier(n):\n",
    "    return ## À compléter.\n",
    "\n",
    "## Par compréhension :\n",
    "def premier_c(n):\n",
    "    return ## À compléter\n",
    "\n",
    "def tri_indice(l):\n",
    "    return # À compléter en une ligne"
   ]
  },
  {
   "cell_type": "code",
   "execution_count": null,
   "metadata": {
    "collapsed": true
   },
   "outputs": [],
   "source": [
    "## Cellule de test de votre code : à ne pas modifier.\n",
    "# Renvoie \"Bonne réponse\" ou \"Erreur\" si le code s'exécute mais que les résultats sont faux.\n",
    "\n",
    "# Affichage des résultats : \n",
    "import time\n",
    "print('premier(20) :', premier(20))\n",
    "start_time = time.time()\n",
    "premier(100)\n",
    "print('premier(100) a mis %s secondes' % (time.time() - start_time))\n",
    "print('premier_c(20) :', premier_c(20))\n",
    "start_time = time.time()\n",
    "premier_c(100)\n",
    "print('premier_c(100) a mis %s secondes' % (time.time() - start_time))\n",
    "print('tri_indice', tri_indice([1,5,2,4,3]))\n",
    "\n",
    "# Validation du code :\n",
    "try :\n",
    "    assert premier(20) == [2, 3, 5, 7, 11, 13, 17, 19]\n",
    "    assert premier(100) == [2, 3, 5, 7, 11, 13, 17, 19, 23, 29, 31, 37, 41, 43, 47, 53, 59, 61, 67, 71, 73, 79, 83, 89, 97] \n",
    "    assert premier_c(20) == [2, 3, 5, 7, 11, 13, 17, 19]\n",
    "    assert premier_c(100) == [2, 3, 5, 7, 11, 13, 17, 19, 23, 29, 31, 37, 41, 43, 47, 53, 59, 61, 67, 71, 73, 79, 83, 89, 97] \n",
    "    assert tri_indice([1,5,2,4,3]) == [0, 2, 4, 3, 1]\n",
    "    print('Bonne réponse !')\n",
    "    \n",
    "except AssertionError: \n",
    "    print('Erreur !')"
   ]
  },
  {
   "cell_type": "markdown",
   "metadata": {},
   "source": [
    "Python 3 permet aussi de créer des dictionnaires par compréhension.\n",
    "\n",
    "Exercice : Créer la fonction `dictionnaire_premier(n)` qui renvoie un dictionnaire avec comme clés les nombres de 2 à n et comme valeur pour chaque clés x la liste des nombre premiers jusqu'à x exclu (exemple : `dictionnaire_premier(n)={0:[], 1:[], 2:[], 3:[2], 4:[2, 3], 5:[2, 3], 6:[2, 3, 5]}`). Vous pouvez réutiliser la fonction `premier_c`."
   ]
  },
  {
   "cell_type": "code",
   "execution_count": null,
   "metadata": {
    "collapsed": true
   },
   "outputs": [],
   "source": [
    "def dictionnaire_premier(n):\n",
    "    return # À compléter en une ligne"
   ]
  },
  {
   "cell_type": "code",
   "execution_count": null,
   "metadata": {
    "collapsed": true
   },
   "outputs": [],
   "source": [
    "## Cellule de test de votre code : à ne pas modifier.\n",
    "# Renvoie \"Bonne réponse\" ou \"Erreur\" si le code s'exécute mais que les résultats sont faux.\n",
    "\n",
    "# Affichage des résultats : \n",
    "print(dictionnaire_premier(10))\n",
    "\n",
    "# Validation du code :\n",
    "try :\n",
    "    assert dictionnaire_premier(10) == {0: [], 1: [], 2: [], 3: [2], 4: [2, 3], 5: [2, 3], 6: [2, 3, 5], 7: [2, 3, 5], 8: [2, 3, 5, 7], 9: [2, 3, 5, 7]} \n",
    "    print('Bonne réponse !')\n",
    "    \n",
    "except AssertionError: \n",
    "    print('Erreur !')"
   ]
  },
  {
   "cell_type": "markdown",
   "metadata": {},
   "source": [
    "## 8. Classes\n",
    "\n",
    "Python est un langage avec beaucoup de classes (exepté les types élémentaires il n'y a que des classes !).\n",
    "\n",
    "Exercice : \n",
    "Implémenter une classe Voiture qui : \n",
    "- a un attribut \"carburant\" intialisé à 50 (entier de max 100)\n",
    "- a deux méthodes : \n",
    "    - avance(x) : consomme x de carburant, renvoie \"J'ai avancé de `x`km\", si x > carburant elle consomme tout le carburant et renvoie \"J'ai avancé de `carburant`km\".\n",
    "    - station() : remplit le carburant au max"
   ]
  },
  {
   "cell_type": "code",
   "execution_count": null,
   "metadata": {
    "collapsed": true
   },
   "outputs": [],
   "source": [
    "class Voiture:\n",
    "    ## À compléter"
   ]
  },
  {
   "cell_type": "code",
   "execution_count": null,
   "metadata": {
    "collapsed": true
   },
   "outputs": [],
   "source": [
    "## Cellule de test de votre code : à ne pas modifier.\n",
    "# Renvoie \"Bonne réponse\" ou \"Erreur\" si le code s'exécute mais que les résultats sont faux.\n",
    "\n",
    "# Validation du code :\n",
    "try:\n",
    "    voit = Voiture()\n",
    "    assert voit.carburant == 50\n",
    "    assert voit.avance(20) == 'J\\'ai avancé de 20km'\n",
    "    assert voit.carburant == 30\n",
    "    assert voit.avance(200) == 'J\\'ai avancé de 30km'\n",
    "    assert voit.carburant == 0\n",
    "    voit.station()\n",
    "    assert voit.carburant == 100\n",
    "    print('Bonne réponse !')\n",
    "    \n",
    "except AssertionError: \n",
    "    print('Erreur !')"
   ]
  },
  {
   "cell_type": "markdown",
   "metadata": {},
   "source": [
    "## 9. Arguments de fonctions\n",
    "\n",
    "En python, on peut fournir à une fonction :\n",
    " - une liste d'arguments dans un ordre\n",
    " - une liste d'arguments avec des mots clés (Exemple : `fonction(faire=True)`, le mot clé sera faire, et prend la valeur `True` par défaut).\n",
    " \n",
    "En revanche, il n'est pas obligatoire de spécifier combien d'arguments on va fournir à la fonction ! Les mots clés `*args` et `**kwargs` définissent des arguments facultatifs.\n",
    "\n",
    "Dans une fonction quelconque, si on ajoute à sa définition `*args` et `**kwargs` de la manière suivante : \n",
    "\n",
    "```python\n",
    "def fonction(*args, **kwargs):\n",
    "    ...\n",
    "    ...\n",
    "    return resultat\n",
    "```\n",
    "\n",
    "alors on peut récupérer les arguments positionnels (sans mots-clés) dans la fonction avec `args` sous forme de liste, et les arguments avec mots-clés avec `kwargs` sous forme de dictionnaire. On peut aussi combiner avec des arguments obligatoires : \n",
    "\n",
    "```python\n",
    "def fonction(argument1, argument2, *args, **kwargs):\n",
    "    arguments = args\n",
    "    dictionnaire = kwargs\n",
    "    ...\n",
    "    return resultat\n",
    "```\n",
    "\n",
    "\n",
    "Exercice : \n",
    "Faire une fonction `add_mul` qui prend tout les arguments facultatifs et les somme si l'argument `operation=somme` et les multiplie si `operation=multiplication`. L'argument par défaut est `operation=somme`."
   ]
  },
  {
   "cell_type": "code",
   "execution_count": null,
   "metadata": {
    "collapsed": true
   },
   "outputs": [],
   "source": [
    "def add_mul(*args, operation='somme'):\n",
    "    # À compléter\n",
    "    return"
   ]
  },
  {
   "cell_type": "code",
   "execution_count": null,
   "metadata": {
    "collapsed": true
   },
   "outputs": [],
   "source": [
    "## Cellule de test de votre code : à ne pas modifier.\n",
    "# Renvoie \"Bonne réponse\" ou \"Erreur\" si le code s'exécute mais que les résultats sont faux.\n",
    "\n",
    "# Affichage des résultats : \n",
    "print(add_mul(1,2,3))\n",
    "print(add_mul(2, 2, 2, 2, operation = 'multiplication'))\n",
    "\n",
    "# Validation du code :\n",
    "try:\n",
    "    assert add_mul(1,2,3) == 6\n",
    "    assert add_mul(2, 2, 2, 2, operation = 'multiplication') == 2**4\n",
    "    print('Bonne réponse !')\n",
    "    \n",
    "except AssertionError: \n",
    "    print('Erreur !')"
   ]
  },
  {
   "cell_type": "markdown",
   "metadata": {},
   "source": [
    "## 10. Numpy\n",
    "\n",
    "Numpy est une bibliothèque Python très utilisée pour le calcul scientifique. Elle permet de manipuler des tableaux multidimensionnelles et implémente les opérations d'algèbre linéaire de manière parallélisées. \n",
    "\n",
    "### Importation de Numpy\n",
    "\n",
    "Avant de pouvoir utiliser les classes et les fonctions de  numpy, il faut l'importer.\n",
    "\n",
    "Exercice : Importer la bibiothèque numpy et lui attribuer l'alias `np` "
   ]
  },
  {
   "cell_type": "code",
   "execution_count": null,
   "metadata": {
    "collapsed": true
   },
   "outputs": [],
   "source": [
    "# À compléter\n"
   ]
  },
  {
   "cell_type": "code",
   "execution_count": null,
   "metadata": {
    "collapsed": true
   },
   "outputs": [],
   "source": [
    "## Cellule de test de votre code : à ne pas modifier.\n",
    "# Renvoie \"Bonne réponse\" ou \"Erreur\" si le code s'exécute mais que les résultats sont faux.\n",
    "\n",
    "# Validation du code:\n",
    "try:\n",
    "    assert np\n",
    "    assert np.array([1])\n",
    "    print(\"Bonne réponse !\")\n",
    "\n",
    "except AssertionError: \n",
    "    print(\"Erreur !\")"
   ]
  },
  {
   "cell_type": "markdown",
   "metadata": {},
   "source": [
    "### Les tableaux multidimensionnelles\n",
    "\n",
    "Numpy introduit les `array` (tableaux multidimensionnelles) qui peuvent être créés de différentes manières comme par exemple à partir d'une liste. \n",
    "\n",
    "Exemple d'une matrice 3X2 créée à partir d'une liste de liste :\n",
    "```Python\n",
    "a = np.array([[1, 2, 3],[4, 5, 6],[7, 8, 9]])\n",
    "```\n",
    "\n",
    "Exercice : \n",
    "Créer un tableau 3D de dimensions 2X2X2 contenant les nombres entiers de 0 à 7 à partir d'une liste."
   ]
  },
  {
   "cell_type": "code",
   "execution_count": null,
   "metadata": {
    "collapsed": true
   },
   "outputs": [],
   "source": [
    "t = # À compléter"
   ]
  },
  {
   "cell_type": "code",
   "execution_count": null,
   "metadata": {
    "collapsed": true
   },
   "outputs": [],
   "source": [
    "## Cellule de test de votre code : à ne pas modifier.\n",
    "# Renvoie \"Bonne réponse\" ou \"Erreur\" si le code s'exécute mais que les résultats sont faux.\n",
    "\n",
    "# Validation du code:\n",
    "try:\n",
    "    assert (t == np.arange(8).reshape(2,2,2)).all()\n",
    "    print(\"Bonne réponse !\")\n",
    "\n",
    "except AssertionError: \n",
    "    print(\"Erreur !\")"
   ]
  },
  {
   "cell_type": "markdown",
   "metadata": {},
   "source": [
    "Voici une liste non exhaustive de fonction numpy permettant de créer des `array`. Certaines prennent en paramètre un tuple avec les dimensions de l'`array` :\n",
    "```Python\n",
    "b = np.zeros((2,2))   # Créer un tableau de dimension 2X2 rempli de 0\n",
    "c = np.ones((2,2))    # Créer un tableau de dimension 2X2 rempli de 1\n",
    "d = np.full((2,2), 7)  # Créer un tableau de dimension 2X2 rempli de 7\n",
    "e = np.random.random((2,2))  # Créer un tableau 2X2 rempli par un tirage dans une loi uniforme d'intervalle [0,1)\n",
    "```\n",
    "Exercice : Rechercher la fonction numpy permettant de créer la matrice identité de dimension 3X3."
   ]
  },
  {
   "cell_type": "code",
   "execution_count": null,
   "metadata": {
    "collapsed": true
   },
   "outputs": [],
   "source": [
    "t = # À compléter"
   ]
  },
  {
   "cell_type": "code",
   "execution_count": null,
   "metadata": {
    "collapsed": true
   },
   "outputs": [],
   "source": [
    "## Cellule de test de votre code : à ne pas modifier.\n",
    "# Renvoie \"Bonne réponse\" ou \"Erreur\" si le code s'exécute mais que les résultats sont faux.\n",
    "\n",
    "# Validation du code:\n",
    "try:\n",
    "    assert (t == np.array([[1, 0, 0], [0, 1, 0], [0, 0, 1]])).all()\n",
    "    print(\"Bonne réponse !\")\n",
    "\n",
    "except AssertionError: \n",
    "    print(\"Erreur !\")"
   ]
  },
  {
   "cell_type": "markdown",
   "metadata": {},
   "source": [
    "### Indexation des tableau\n",
    "\n",
    "__Par indice__ : Comme pour les listes Python, les éléments des tableaux numpy peuvent être accédés par indice avec l'opérateur crochet. Pour une matrice 2D, le premier indice indique la ligne et le deuxième la colonne. Cet opérateur renvoie une copie.\n",
    "```Python\n",
    "a = np.arange(16).reshape(4,4)\n",
    "print(a)\n",
    ">>> [[ 0  1  2  3]\n",
    "     [ 4  5  6  7]\n",
    "     [ 8  9 10 11]\n",
    "     [12 13 14 15]]\n",
    "print(a[1])\n",
    ">>> [4 5 6 7]\n",
    "print(a[1,1])\n",
    ">>> 5\n",
    "```\n",
    "__Par _slices___ : Vous pouvez aussi indexer les tableaux numpy par tranche (_slice_). Attention, une __slice__ n'est qu'une vue des données et non une copie. Si vous modifiez la _slice_, le tableau original sera aussi modifié.\n",
    "\n",
    "```Python\n",
    "a = np.arange(16).reshape(4,4)\n",
    "b = a[:2, 1:3]\n",
    "b[0, 0] = 100\n",
    "print(a)\n",
    ">>> [[  0 100   2   3]\n",
    "     [  4   5   6   7]\n",
    "     [  8   9  10  11]\n",
    "     [ 12  13  14  15]]\n",
    "\n",
    "```\n",
    "__Par booléen__ : La dernière façon de récupérer les éléments d'un tableau est d'utiliser une liste d'indices booléens.\n",
    "```Python\n",
    "a = np.arange(6)\n",
    "print(a)\n",
    ">>> [0 1 2 3 4 5]\n",
    "print(a[[False, False, False, True, False, True]])\n",
    ">>> [3 5]\n",
    "```\n",
    "Exercice : Utiliser l'indexation par un booléen pour sélectionner les nombres pairs dans le tableau `tab`."
   ]
  },
  {
   "cell_type": "code",
   "execution_count": null,
   "metadata": {
    "collapsed": true
   },
   "outputs": [],
   "source": [
    "tab = np.arange(1000)\n",
    "tab_pair = tab[] # À compléter"
   ]
  },
  {
   "cell_type": "code",
   "execution_count": null,
   "metadata": {
    "collapsed": true
   },
   "outputs": [],
   "source": [
    "## Cellule de test de votre code : à ne pas modifier.\n",
    "# Renvoie \"Bonne réponse\" ou \"Erreur\" si le code s'exécute mais que les résultats sont faux.\n",
    "\n",
    "# Validation du code:\n",
    "try:\n",
    "    assert (tab_pair == np.arange(0, 1000, 2)).all()\n",
    "    print(\"Bonne réponse !\")\n",
    "\n",
    "except AssertionError: \n",
    "    print(\"Erreur !\")"
   ]
  },
  {
   "cell_type": "markdown",
   "metadata": {},
   "source": [
    "### Les opérateurs\n",
    "\n",
    "Numpy permet de faire les opérations de matrice par élément de manière parralélisée. En voici quelques unes :\n",
    "\n",
    "```Python\n",
    "x = np.array([[1,2],[3,4]], dtype=np.float64)\n",
    "y = np.array([[5,6],[7,8]], dtype=np.float64)\n",
    "\n",
    "print(x + y)\n",
    ">>> [[ 6.0  8.0]\n",
    "     [10.0 12.0]]\n",
    "     \n",
    "print(x - y)\n",
    ">>> [[-4.0 -4.0]\n",
    "     [-4.0 -4.0]]\n",
    "     \n",
    "print(x * y)\n",
    ">>> [[ 5.0 12.0]\n",
    "     [21.0 32.0]]\n",
    "     \n",
    "print(x / y)\n",
    ">>> [[ 0.2         0.33333333]\n",
    "     [ 0.42857143  0.5       ]]\n",
    "\n",
    "print(np.sqrt(x))\n",
    ">>> [[ 1.          1.41421356]\n",
    "     [ 1.73205081  2.        ]]\n",
    "\n",
    "print(np.sum(x))  # Somme de tous les éléments\n",
    ">>> 10\n",
    "\n",
    "print(np.sum(x, axis=0))  # Somme des colonnes (axe 0)\n",
    ">>> [4 6]\n",
    "\n",
    "print(np.sum(x, axis=1))  # Somme des lignes ( axe 1)\n",
    ">>> [3 7]\n",
    "```\n",
    "L'opérateur \"@\" correspond au produit matriciel, `.T` donne la transposé (exemple : `mat.T`)."
   ]
  },
  {
   "cell_type": "markdown",
   "metadata": {},
   "source": [
    "### Le _broadcasting_\n",
    "Le _broadcasting_ permet de réaliser des opérations arithmétiques entre des matrices de tailles différentes et de façon très rapide. Par exemple si on veut ajouter à chaque ligne de la matrice `mat` le vecteur `vec` on pourrait utiliser une boucle __for__, mais le code suivant est beaucoup plus rapide :\n",
    "```Python\n",
    "x = np.array([[1,2,3], [4,5,6], [7,8,9], [10, 11, 12]])\n",
    "v = np.array([1, 0, 1])\n",
    "print(x + v)\n",
    ">>> [[ 2  2  4]\n",
    "     [ 5  5  7]\n",
    "     [ 8  8 10]\n",
    "     [11 11 13]]\n",
    "```"
   ]
  },
  {
   "cell_type": "markdown",
   "metadata": {},
   "source": [
    "## 11. La pep8\n",
    "La pep8 est le guide de style de Python. Elle donne toutes les conventions afin d'uniformiser tous les codes Python. Même si ces conventions ne sont pas très importantes pour un débutant, il vaut mieux les connaitres si l'on doit un jour publier du code. Le texte est disponible à cette [adresse](https://www.python.org/dev/peps/pep-0008/) et vous en trouverez des résumés en cherchant sur internet.\n",
    "\n",
    "Exercice :\n",
    "Corriger le code en suivant les conventions décrites dans la pep8.\n"
   ]
  },
  {
   "cell_type": "code",
   "execution_count": null,
   "metadata": {
    "collapsed": true
   },
   "outputs": [],
   "source": [
    "import time, os\n",
    "from numpy import *\n",
    "def MergeSort(alist):\n",
    "    if len(alist)>1:\n",
    "        mid=round(len(alist)/2)\n",
    "        LeftHalf=alist[:mid]\n",
    "        RightHalf=alist[mid:]\n",
    "        MergeSort(LeftHalf)\n",
    "        MergeSort(RightHalf)\n",
    "        i=j=k=0\n",
    "        \n",
    "        while i<len(LeftHalf) and j<len(RightHalf):\n",
    "            \n",
    "            if not LeftHalf[i]> RightHalf[j]: alist[k]=LeftHalf[i]; i=i+1\n",
    "            elif True: alist[k]=RightHalf[j]; j=j+1\n",
    "            k=k+1\n",
    "            \n",
    "            \n",
    "        while i<len(LeftHalf): alist[k]=LeftHalf[i]; i=i+1; k=k+1\n",
    "            \n",
    "            \n",
    "        while j < len(RightHalf): alist[k]=RightHalf[j]; j=j+1; k=k+1\n",
    "\n",
    "l=[44,47,5,65,33,45,2,7,70,11,77,58,16,38,35,46,4,8,62,40,72,60,74,36,15,52,51,68,1,78,41,31,57,61,37,19,53,39,26,9,75,43,67,55,34,32,49,0,25,20,69,59,48,3,18,23,21,17,56,6,54,13,10,71,22,27,64,29,42,30,12,76,79,73,63,28,66,24,50,14]\n",
    "start_time = time.time()\n",
    "print(sort(l))\n",
    "print('%s secondes' % (time.time() - start_time))\n",
    "start_time = time.time()\n",
    "MergeSort(l)\n",
    "print(l)\n",
    "print('%s secondes' % (time.time() - start_time))"
   ]
  },
  {
   "cell_type": "markdown",
   "metadata": {},
   "source": [
    "## 12. Le _profiler_ Python\n",
    "\n",
    "Comme beaucoup de language, Python contient un profiler intégré qui permet d'analyser le comportement d'un programme en décrivant le nombre d'appels et le temps passé dans chaque fonction. On peut l'appeler dans le terminal avec la commande suivante :\n",
    "```bash\n",
    "python -m cProfile -s cumtime script_a_analyser.py\n",
    "```\n",
    "Exercice : Recopier le programme de la partie sur la pep8 dans un script \".py\" puis donner la sortie du _profiler_."
   ]
  },
  {
   "cell_type": "raw",
   "metadata": {},
   "source": [
    "Sortie du profiler :"
   ]
  }
 ],
 "metadata": {
  "kernelspec": {
   "display_name": "Python 3",
   "language": "python",
   "name": "python3"
  },
  "language_info": {
   "codemirror_mode": {
    "name": "ipython",
    "version": 3
   },
   "file_extension": ".py",
   "mimetype": "text/x-python",
   "name": "python",
   "nbconvert_exporter": "python",
   "pygments_lexer": "ipython3",
   "version": "3.6.5"
  }
 },
 "nbformat": 4,
 "nbformat_minor": 2
}
